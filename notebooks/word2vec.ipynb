{
 "cells": [
  {
   "cell_type": "code",
   "execution_count": 1,
   "metadata": {},
   "outputs": [
    {
     "data": {
      "application/javascript": "IPython.notebook.set_autosave_interval(30000)"
     },
     "metadata": {},
     "output_type": "display_data"
    },
    {
     "name": "stdout",
     "output_type": "stream",
     "text": [
      "Autosaving every 30 seconds\n"
     ]
    }
   ],
   "source": [
    "%autosave 30\n",
    "%load_ext autoreload\n",
    "%autoreload 2"
   ]
  },
  {
   "cell_type": "code",
   "execution_count": 2,
   "metadata": {},
   "outputs": [
    {
     "name": "stdout",
     "output_type": "stream",
     "text": [
      "/home/huawei123/kwx1991442/code-classification\n"
     ]
    }
   ],
   "source": [
    "cd .."
   ]
  },
  {
   "cell_type": "code",
   "execution_count": 63,
   "metadata": {},
   "outputs": [],
   "source": [
    "import logging\n",
    "from typing import *\n",
    "\n",
    "from torch import Generator\n",
    "from torch.utils.data import random_split, DataLoader\n",
    "\n",
    "from src.baseline.dataloader import UITestsDataset\n",
    "from src.word2vec.dataloader import W2VClassificationCollator, TrainW2VModel\n",
    "from src.params import PATH_TEST_UI, PATH_PARSED_CLASSIFUI\n",
    "\n",
    "logger = logging.getLogger(__name__)"
   ]
  },
  {
   "cell_type": "code",
   "execution_count": 64,
   "metadata": {},
   "outputs": [],
   "source": [
    "from src.main import parse_args\n",
    "\n",
    "args = parse_args(True, [\"--method\", \"word2vec\", \"--tokens-source\", \"origin\"])"
   ]
  },
  {
   "cell_type": "code",
   "execution_count": 65,
   "metadata": {},
   "outputs": [
    {
     "data": {
      "text/plain": [
       "Namespace(batch_size=4, classifier='bayes', device='cuda', exp_name='TEST', learning_rate=5e-05, liblinear_params='-s 5', max_seq_len=512, method='word2vec', mode='eval', n_epochs=8, save_all=False, save_metrics=False, save_model=False, save_predictions=False, seed=42, tokens_source='origin', traintestsplit=0.7, verbose=False, w2v_concat_method='mean', w2v_epochs=50, w2v_min_count=5, w2v_vector_size=500, w2v_window=500)"
      ]
     },
     "execution_count": 65,
     "metadata": {},
     "output_type": "execute_result"
    }
   ],
   "source": [
    "args"
   ]
  },
  {
   "cell_type": "code",
   "execution_count": 67,
   "metadata": {},
   "outputs": [
    {
     "name": "stdout",
     "output_type": "stream",
     "text": [
      "UITestsDataset is initialized in mode train from data/rust/tests/ui  with tokens_source='origin'. len(dataset)=233\n"
     ]
    }
   ],
   "source": [
    "if args.mode != 'eval':\n",
    "    raise NotImplementedError()\n",
    "\n",
    "# load data\n",
    "mode = 'train'\n",
    "tokens_source = args.tokens_source\n",
    "debug = True  # NOTE!!!!!!!!!!!!!!!!!!!!!!!!!WE ARE IN DEBUG MODE!!!!!!!!!!!!!!!!!!!!!!!!!!!!!\n",
    "\n",
    "if tokens_source == 'origin':\n",
    "    tests_ui_folder=PATH_TEST_UI\n",
    "elif tokens_source == 'classifui':\n",
    "    tests_ui_folder=PATH_PARSED_CLASSIFUI\n",
    "\n",
    "dataset = UITestsDataset(tests_ui_folder, mode, debug)\n",
    "print(f\"UITestsDataset is initialized in mode {mode} from {tests_ui_folder} \"\n",
    "            f\" with {tokens_source=}. {len(dataset)=}\")\n"
   ]
  },
  {
   "cell_type": "code",
   "execution_count": 68,
   "metadata": {},
   "outputs": [
    {
     "name": "stdout",
     "output_type": "stream",
     "text": [
      "Split generator initialized with seed=42, lengths=[0.7, 0.30000000000000004].\n"
     ]
    }
   ],
   "source": [
    "# split data\n",
    "seed = args.seed\n",
    "traintestsplit = args.traintestsplit\n",
    "lengths = [traintestsplit, 1-traintestsplit]\n",
    "\n",
    "splitgenerator = Generator().manual_seed(seed)\n",
    "train_set, val_set = random_split(dataset, \n",
    "    lengths=lengths, generator=splitgenerator)\n",
    "print(f\"Split generator initialized with {seed=}, {lengths=}.\")"
   ]
  },
  {
   "cell_type": "code",
   "execution_count": 81,
   "metadata": {},
   "outputs": [
    {
     "name": "stdout",
     "output_type": "stream",
     "text": [
      "DataLoaders are initialized with batch_size=1\n",
      "len(dataset.classes)=5, len(X_train)=164, len(X_val)=69\n"
     ]
    }
   ],
   "source": [
    "concat_method = args.w2v_concat_method #  TODO (NotImplemented)\n",
    "min_count = args.w2v_min_count\n",
    "vector_size = args.w2v_vector_size\n",
    "window = args.w2v_window\n",
    "epochs = args.w2v_epochs\n",
    "\n",
    "splitter, w2v_model = TrainW2VModel(train_set, tokens_source, min_count, vector_size, window, epochs).get_model()\n",
    "collate_fn = W2VClassificationCollator(w2v_model, splitter, dataset.classes)\n",
    "\n",
    "X_train, Y_train = collate_fn(train_set)\n",
    "X_val,   Y_val   = collate_fn(val_set)\n",
    "\n",
    "print(f\"{len(dataset.classes)=}, {len(X_train)=}, {len(X_val)=}\")"
   ]
  },
  {
   "cell_type": "code",
   "execution_count": 121,
   "metadata": {},
   "outputs": [],
   "source": [
    "from sklearn.model_selection import train_test_split\n",
    "X, Y = collate_fn(dataset)\n",
    "X_train, X_val, Y_train, Y_val = train_test_split(X, Y, train_size=0.7, shuffle=True, random_state=args.seed)"
   ]
  },
  {
   "cell_type": "code",
   "execution_count": 102,
   "metadata": {},
   "outputs": [],
   "source": [
    "def fix_labels(Y_train, Y_val):\n",
    "    from sklearn.preprocessing import LabelEncoder\n",
    "    le = LabelEncoder().fit(Y_train)\n",
    "    Y_train = le.fit_transform(Y_train)\n",
    "    Y_val = le.fit_transform(Y_val)\n",
    "    return Y_train, Y_val"
   ]
  },
  {
   "cell_type": "code",
   "execution_count": 122,
   "metadata": {},
   "outputs": [
    {
     "data": {
      "text/html": [
       "<style>#sk-container-id-4 {color: black;}#sk-container-id-4 pre{padding: 0;}#sk-container-id-4 div.sk-toggleable {background-color: white;}#sk-container-id-4 label.sk-toggleable__label {cursor: pointer;display: block;width: 100%;margin-bottom: 0;padding: 0.3em;box-sizing: border-box;text-align: center;}#sk-container-id-4 label.sk-toggleable__label-arrow:before {content: \"▸\";float: left;margin-right: 0.25em;color: #696969;}#sk-container-id-4 label.sk-toggleable__label-arrow:hover:before {color: black;}#sk-container-id-4 div.sk-estimator:hover label.sk-toggleable__label-arrow:before {color: black;}#sk-container-id-4 div.sk-toggleable__content {max-height: 0;max-width: 0;overflow: hidden;text-align: left;background-color: #f0f8ff;}#sk-container-id-4 div.sk-toggleable__content pre {margin: 0.2em;color: black;border-radius: 0.25em;background-color: #f0f8ff;}#sk-container-id-4 input.sk-toggleable__control:checked~div.sk-toggleable__content {max-height: 200px;max-width: 100%;overflow: auto;}#sk-container-id-4 input.sk-toggleable__control:checked~label.sk-toggleable__label-arrow:before {content: \"▾\";}#sk-container-id-4 div.sk-estimator input.sk-toggleable__control:checked~label.sk-toggleable__label {background-color: #d4ebff;}#sk-container-id-4 div.sk-label input.sk-toggleable__control:checked~label.sk-toggleable__label {background-color: #d4ebff;}#sk-container-id-4 input.sk-hidden--visually {border: 0;clip: rect(1px 1px 1px 1px);clip: rect(1px, 1px, 1px, 1px);height: 1px;margin: -1px;overflow: hidden;padding: 0;position: absolute;width: 1px;}#sk-container-id-4 div.sk-estimator {font-family: monospace;background-color: #f0f8ff;border: 1px dotted black;border-radius: 0.25em;box-sizing: border-box;margin-bottom: 0.5em;}#sk-container-id-4 div.sk-estimator:hover {background-color: #d4ebff;}#sk-container-id-4 div.sk-parallel-item::after {content: \"\";width: 100%;border-bottom: 1px solid gray;flex-grow: 1;}#sk-container-id-4 div.sk-label:hover label.sk-toggleable__label {background-color: #d4ebff;}#sk-container-id-4 div.sk-serial::before {content: \"\";position: absolute;border-left: 1px solid gray;box-sizing: border-box;top: 0;bottom: 0;left: 50%;z-index: 0;}#sk-container-id-4 div.sk-serial {display: flex;flex-direction: column;align-items: center;background-color: white;padding-right: 0.2em;padding-left: 0.2em;position: relative;}#sk-container-id-4 div.sk-item {position: relative;z-index: 1;}#sk-container-id-4 div.sk-parallel {display: flex;align-items: stretch;justify-content: center;background-color: white;position: relative;}#sk-container-id-4 div.sk-item::before, #sk-container-id-4 div.sk-parallel-item::before {content: \"\";position: absolute;border-left: 1px solid gray;box-sizing: border-box;top: 0;bottom: 0;left: 50%;z-index: -1;}#sk-container-id-4 div.sk-parallel-item {display: flex;flex-direction: column;z-index: 1;position: relative;background-color: white;}#sk-container-id-4 div.sk-parallel-item:first-child::after {align-self: flex-end;width: 50%;}#sk-container-id-4 div.sk-parallel-item:last-child::after {align-self: flex-start;width: 50%;}#sk-container-id-4 div.sk-parallel-item:only-child::after {width: 0;}#sk-container-id-4 div.sk-dashed-wrapped {border: 1px dashed gray;margin: 0 0.4em 0.5em 0.4em;box-sizing: border-box;padding-bottom: 0.4em;background-color: white;}#sk-container-id-4 div.sk-label label {font-family: monospace;font-weight: bold;display: inline-block;line-height: 1.2em;}#sk-container-id-4 div.sk-label-container {text-align: center;}#sk-container-id-4 div.sk-container {/* jupyter's `normalize.less` sets `[hidden] { display: none; }` but bootstrap.min.css set `[hidden] { display: none !important; }` so we also need the `!important` here to be able to override the default hidden behavior on the sphinx rendered scikit-learn.org. See: https://github.com/scikit-learn/scikit-learn/issues/21755 */display: inline-block !important;position: relative;}#sk-container-id-4 div.sk-text-repr-fallback {display: none;}</style><div id=\"sk-container-id-4\" class=\"sk-top-container\"><div class=\"sk-text-repr-fallback\"><pre>BernoulliNB()</pre><b>In a Jupyter environment, please rerun this cell to show the HTML representation or trust the notebook. <br />On GitHub, the HTML representation is unable to render, please try loading this page with nbviewer.org.</b></div><div class=\"sk-container\" hidden><div class=\"sk-item\"><div class=\"sk-estimator sk-toggleable\"><input class=\"sk-toggleable__control sk-hidden--visually\" id=\"sk-estimator-id-4\" type=\"checkbox\" checked><label for=\"sk-estimator-id-4\" class=\"sk-toggleable__label sk-toggleable__label-arrow\">BernoulliNB</label><div class=\"sk-toggleable__content\"><pre>BernoulliNB()</pre></div></div></div></div></div>"
      ],
      "text/plain": [
       "BernoulliNB()"
      ]
     },
     "execution_count": 122,
     "metadata": {},
     "output_type": "execute_result"
    }
   ],
   "source": [
    "# Naive Bayes\n",
    "from sklearn.naive_bayes import GaussianNB, BernoulliNB\n",
    "\n",
    "# gnb = GaussianNB()\n",
    "gnb = BernoulliNB()\n",
    "gnb.fit(X_train, Y_train)"
   ]
  },
  {
   "cell_type": "code",
   "execution_count": 123,
   "metadata": {},
   "outputs": [
    {
     "name": "stdout",
     "output_type": "stream",
     "text": [
      "Accuracy: 0.6571428571428571\n"
     ]
    }
   ],
   "source": [
    "from sklearn.metrics import accuracy_score\n",
    "Y_pred = gnb.predict(X_val)\n",
    "print('Accuracy:', accuracy_score(Y_val, Y_pred))"
   ]
  },
  {
   "cell_type": "code",
   "execution_count": 124,
   "metadata": {},
   "outputs": [],
   "source": [
    "Y_prob = gnb.predict_proba(X_val)"
   ]
  },
  {
   "cell_type": "code",
   "execution_count": 125,
   "metadata": {},
   "outputs": [
    {
     "name": "stderr",
     "output_type": "stream",
     "text": [
      "/home/huawei123/kwx1991442/venv/lib/python3.8/site-packages/sklearn/metrics/_classification.py:1469: UndefinedMetricWarning: Precision and F-score are ill-defined and being set to 0.0 in labels with no predicted samples. Use `zero_division` parameter to control this behavior.\n",
      "  _warn_prf(average, modifier, msg_start, len(result))\n"
     ]
    },
    {
     "data": {
      "text/plain": [
       "(array([0.        , 0.15384615, 0.33333333, 1.        , 1.        ]),\n",
       " array([0.        , 1.        , 1.        , 1.        , 0.61666667]),\n",
       " array([0.        , 0.26666667, 0.5       , 1.        , 0.7628866 ]),\n",
       " array([ 1,  4,  1,  4, 60]))"
      ]
     },
     "execution_count": 125,
     "metadata": {},
     "output_type": "execute_result"
    }
   ],
   "source": [
    "from sklearn.metrics import precision_recall_fscore_support, roc_auc_score\n",
    "precision_recall_fscore_support(Y_val, Y_pred)"
   ]
  },
  {
   "cell_type": "code",
   "execution_count": 130,
   "metadata": {},
   "outputs": [
    {
     "data": {
      "text/plain": [
       "0.9695375494071147"
      ]
     },
     "execution_count": 130,
     "metadata": {},
     "output_type": "execute_result"
    }
   ],
   "source": [
    "roc_auc_score(Y_val, Y_prob, multi_class='ovr')"
   ]
  },
  {
   "cell_type": "code",
   "execution_count": 127,
   "metadata": {},
   "outputs": [
    {
     "data": {
      "text/plain": [
       "(array([0, 1, 2, 3, 4]), array([ 10,  15,   2,   8, 198]))"
      ]
     },
     "execution_count": 127,
     "metadata": {},
     "output_type": "execute_result"
    }
   ],
   "source": [
    "import numpy as np\n",
    "np.unique(Y, return_counts=True) "
   ]
  },
  {
   "cell_type": "code",
   "execution_count": null,
   "metadata": {},
   "outputs": [],
   "source": [
    "# from gensim.models import doc2vec\n",
    "# from gensim.models.doc2vec import Doc2Vec, TaggedDocument\n",
    "\n",
    "# #Train of the model Doc2Vec\n",
    "\n",
    "# tag_documents = [TaggedDocument(doc, [i]) for i, doc in enumerate(training_docs)]\n",
    "\n",
    "\n",
    "# model = doc2vec.Doc2Vec(vector_size = 300, window = 1, min_count = 3, workers = 6, epochs=20)\n",
    "\n",
    "# model.build_vocab(tag_documents)\n",
    "# model.train(tag_documents, total_examples=model.corpus_count, epochs=20)\n",
    "# model.save(\"d2v.model\")"
   ]
  },
  {
   "cell_type": "code",
   "execution_count": 101,
   "metadata": {},
   "outputs": [
    {
     "data": {
      "text/plain": [
       "(array([0, 1, 3, 4]), (69, 5))"
      ]
     },
     "execution_count": 101,
     "metadata": {},
     "output_type": "execute_result"
    }
   ],
   "source": [
    "np.unique(Y_val), Y_prob.shape"
   ]
  },
  {
   "cell_type": "code",
   "execution_count": null,
   "metadata": {},
   "outputs": [],
   "source": []
  }
 ],
 "metadata": {
  "kernelspec": {
   "display_name": "Python 3.8.10 ('venv')",
   "language": "python",
   "name": "python3"
  },
  "language_info": {
   "codemirror_mode": {
    "name": "ipython",
    "version": 3
   },
   "file_extension": ".py",
   "mimetype": "text/x-python",
   "name": "python",
   "nbconvert_exporter": "python",
   "pygments_lexer": "ipython3",
   "version": "3.8.10"
  },
  "orig_nbformat": 4,
  "vscode": {
   "interpreter": {
    "hash": "40f0bfdc1912eb71bf0d0b3c4b481e172567f32ca306c238f59a320dba5d47a1"
   }
  }
 },
 "nbformat": 4,
 "nbformat_minor": 2
}
